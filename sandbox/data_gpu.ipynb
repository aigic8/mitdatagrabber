{
 "cells": [
  {
   "cell_type": "code",
   "execution_count": 2,
   "metadata": {},
   "outputs": [],
   "source": [
    "import polars as pl\n",
    "\n",
    "INPUT_FILE = \"../samples/gpu/9977228855307-r8937440-n976057.csv\""
   ]
  },
  {
   "cell_type": "code",
   "execution_count": 3,
   "metadata": {},
   "outputs": [
    {
     "data": {
      "text/html": [
       "<div><style>\n",
       ".dataframe > thead > tr,\n",
       ".dataframe > tbody > tr {\n",
       "  text-align: right;\n",
       "  white-space: pre-wrap;\n",
       "}\n",
       "</style>\n",
       "<small>shape: (3_148, 10)</small><table border=\"1\" class=\"dataframe\"><thead><tr><th>timestamp</th><th>gpu_index</th><th>utilization_gpu_pct</th><th>utilization_memory_pct</th><th>memory_free_MiB</th><th>memory_used_MiB</th><th>temperature_gpu</th><th>temperature_memory</th><th>power_draw_W</th><th>pcie_link_width_current</th></tr><tr><td>f64</td><td>i64</td><td>i64</td><td>i64</td><td>i64</td><td>i64</td><td>i64</td><td>i64</td><td>f64</td><td>i64</td></tr></thead><tbody><tr><td>1.6214e9</td><td>0</td><td>0</td><td>0</td><td>32510</td><td>0</td><td>56</td><td>57</td><td>52.61</td><td>16</td></tr><tr><td>1.6214e9</td><td>0</td><td>0</td><td>0</td><td>32510</td><td>0</td><td>56</td><td>57</td><td>52.6</td><td>16</td></tr><tr><td>1.6214e9</td><td>0</td><td>0</td><td>0</td><td>32510</td><td>0</td><td>56</td><td>57</td><td>52.53</td><td>16</td></tr><tr><td>1.6214e9</td><td>0</td><td>0</td><td>0</td><td>32510</td><td>0</td><td>56</td><td>57</td><td>52.62</td><td>16</td></tr><tr><td>1.6214e9</td><td>0</td><td>0</td><td>0</td><td>32510</td><td>0</td><td>56</td><td>57</td><td>52.62</td><td>16</td></tr><tr><td>&hellip;</td><td>&hellip;</td><td>&hellip;</td><td>&hellip;</td><td>&hellip;</td><td>&hellip;</td><td>&hellip;</td><td>&hellip;</td><td>&hellip;</td><td>&hellip;</td></tr><tr><td>1.6214e9</td><td>0</td><td>100</td><td>6</td><td>32510</td><td>0</td><td>66</td><td>67</td><td>57.85</td><td>16</td></tr><tr><td>1.6214e9</td><td>0</td><td>14</td><td>1</td><td>32510</td><td>0</td><td>66</td><td>67</td><td>57.68</td><td>16</td></tr><tr><td>1.6214e9</td><td>0</td><td>14</td><td>1</td><td>32510</td><td>0</td><td>65</td><td>67</td><td>57.47</td><td>16</td></tr><tr><td>1.6214e9</td><td>0</td><td>0</td><td>0</td><td>32510</td><td>0</td><td>65</td><td>67</td><td>57.3</td><td>16</td></tr><tr><td>1.6214e9</td><td>0</td><td>0</td><td>0</td><td>32510</td><td>0</td><td>65</td><td>67</td><td>57.26</td><td>16</td></tr></tbody></table></div>"
      ],
      "text/plain": [
       "shape: (3_148, 10)\n",
       "┌───────────┬───────────┬───────────┬───────────┬───┬───────────┬───────────┬───────────┬──────────┐\n",
       "│ timestamp ┆ gpu_index ┆ utilizati ┆ utilizati ┆ … ┆ temperatu ┆ temperatu ┆ power_dra ┆ pcie_lin │\n",
       "│ ---       ┆ ---       ┆ on_gpu_pc ┆ on_memory ┆   ┆ re_gpu    ┆ re_memory ┆ w_W       ┆ k_width_ │\n",
       "│ f64       ┆ i64       ┆ t         ┆ _pct      ┆   ┆ ---       ┆ ---       ┆ ---       ┆ current  │\n",
       "│           ┆           ┆ ---       ┆ ---       ┆   ┆ i64       ┆ i64       ┆ f64       ┆ ---      │\n",
       "│           ┆           ┆ i64       ┆ i64       ┆   ┆           ┆           ┆           ┆ i64      │\n",
       "╞═══════════╪═══════════╪═══════════╪═══════════╪═══╪═══════════╪═══════════╪═══════════╪══════════╡\n",
       "│ 1.6214e9  ┆ 0         ┆ 0         ┆ 0         ┆ … ┆ 56        ┆ 57        ┆ 52.61     ┆ 16       │\n",
       "│ 1.6214e9  ┆ 0         ┆ 0         ┆ 0         ┆ … ┆ 56        ┆ 57        ┆ 52.6      ┆ 16       │\n",
       "│ 1.6214e9  ┆ 0         ┆ 0         ┆ 0         ┆ … ┆ 56        ┆ 57        ┆ 52.53     ┆ 16       │\n",
       "│ 1.6214e9  ┆ 0         ┆ 0         ┆ 0         ┆ … ┆ 56        ┆ 57        ┆ 52.62     ┆ 16       │\n",
       "│ 1.6214e9  ┆ 0         ┆ 0         ┆ 0         ┆ … ┆ 56        ┆ 57        ┆ 52.62     ┆ 16       │\n",
       "│ …         ┆ …         ┆ …         ┆ …         ┆ … ┆ …         ┆ …         ┆ …         ┆ …        │\n",
       "│ 1.6214e9  ┆ 0         ┆ 100       ┆ 6         ┆ … ┆ 66        ┆ 67        ┆ 57.85     ┆ 16       │\n",
       "│ 1.6214e9  ┆ 0         ┆ 14        ┆ 1         ┆ … ┆ 66        ┆ 67        ┆ 57.68     ┆ 16       │\n",
       "│ 1.6214e9  ┆ 0         ┆ 14        ┆ 1         ┆ … ┆ 65        ┆ 67        ┆ 57.47     ┆ 16       │\n",
       "│ 1.6214e9  ┆ 0         ┆ 0         ┆ 0         ┆ … ┆ 65        ┆ 67        ┆ 57.3      ┆ 16       │\n",
       "│ 1.6214e9  ┆ 0         ┆ 0         ┆ 0         ┆ … ┆ 65        ┆ 67        ┆ 57.26     ┆ 16       │\n",
       "└───────────┴───────────┴───────────┴───────────┴───┴───────────┴───────────┴───────────┴──────────┘"
      ]
     },
     "execution_count": 3,
     "metadata": {},
     "output_type": "execute_result"
    }
   ],
   "source": [
    "df = pl.read_csv(INPUT_FILE)\n",
    "df\n"
   ]
  },
  {
   "cell_type": "code",
   "execution_count": 4,
   "metadata": {},
   "outputs": [
    {
     "data": {
      "text/html": [
       "<div><style>\n",
       ".dataframe > thead > tr,\n",
       ".dataframe > tbody > tr {\n",
       "  text-align: right;\n",
       "  white-space: pre-wrap;\n",
       "}\n",
       "</style>\n",
       "<small>shape: (7, 10)</small><table border=\"1\" class=\"dataframe\"><thead><tr><th>gpu_index</th><th>datetime</th><th>utilization_gpu_pct</th><th>utilization_memory_pct</th><th>memory_free_MiB</th><th>memory_used_MiB</th><th>temperature_gpu</th><th>temperature_memory</th><th>power_draw_W</th><th>pcie_link_width_current</th></tr><tr><td>i64</td><td>datetime[μs]</td><td>f64</td><td>f64</td><td>f64</td><td>f64</td><td>f64</td><td>f64</td><td>f64</td><td>f64</td></tr></thead><tbody><tr><td>0</td><td>2021-05-19 18:02:00</td><td>0.0</td><td>0.0</td><td>32510.0</td><td>0.0</td><td>55.291339</td><td>55.708661</td><td>51.993228</td><td>16.0</td></tr><tr><td>0</td><td>2021-05-19 18:03:00</td><td>0.0</td><td>0.0</td><td>32510.0</td><td>0.0</td><td>50.903448</td><td>50.818966</td><td>49.703224</td><td>16.0</td></tr><tr><td>0</td><td>2021-05-19 18:04:00</td><td>0.0</td><td>0.0</td><td>32508.393103</td><td>1.606897</td><td>46.863793</td><td>46.232759</td><td>47.915121</td><td>16.0</td></tr><tr><td>0</td><td>2021-05-19 18:05:00</td><td>2.075862</td><td>0.686207</td><td>32009.618966</td><td>500.381034</td><td>45.125862</td><td>44.168966</td><td>51.251362</td><td>16.0</td></tr><tr><td>0</td><td>2021-05-19 18:06:00</td><td>84.565517</td><td>51.906897</td><td>4980.496552</td><td>27529.503448</td><td>59.822414</td><td>62.418966</td><td>183.49031</td><td>16.0</td></tr><tr><td>0</td><td>2021-05-19 18:07:00</td><td>83.237931</td><td>52.47931</td><td>4705.0</td><td>27805.0</td><td>70.105172</td><td>74.498276</td><td>187.974362</td><td>16.0</td></tr><tr><td>0</td><td>2021-05-19 18:08:00</td><td>83.181818</td><td>49.107438</td><td>7692.31405</td><td>24817.68595</td><td>70.578512</td><td>75.404959</td><td>187.281653</td><td>16.0</td></tr></tbody></table></div>"
      ],
      "text/plain": [
       "shape: (7, 10)\n",
       "┌───────────┬───────────┬───────────┬───────────┬───┬───────────┬───────────┬───────────┬──────────┐\n",
       "│ gpu_index ┆ datetime  ┆ utilizati ┆ utilizati ┆ … ┆ temperatu ┆ temperatu ┆ power_dra ┆ pcie_lin │\n",
       "│ ---       ┆ ---       ┆ on_gpu_pc ┆ on_memory ┆   ┆ re_gpu    ┆ re_memory ┆ w_W       ┆ k_width_ │\n",
       "│ i64       ┆ datetime[ ┆ t         ┆ _pct      ┆   ┆ ---       ┆ ---       ┆ ---       ┆ current  │\n",
       "│           ┆ μs]       ┆ ---       ┆ ---       ┆   ┆ f64       ┆ f64       ┆ f64       ┆ ---      │\n",
       "│           ┆           ┆ f64       ┆ f64       ┆   ┆           ┆           ┆           ┆ f64      │\n",
       "╞═══════════╪═══════════╪═══════════╪═══════════╪═══╪═══════════╪═══════════╪═══════════╪══════════╡\n",
       "│ 0         ┆ 2021-05-1 ┆ 0.0       ┆ 0.0       ┆ … ┆ 55.291339 ┆ 55.708661 ┆ 51.993228 ┆ 16.0     │\n",
       "│           ┆ 9         ┆           ┆           ┆   ┆           ┆           ┆           ┆          │\n",
       "│           ┆ 18:02:00  ┆           ┆           ┆   ┆           ┆           ┆           ┆          │\n",
       "│ 0         ┆ 2021-05-1 ┆ 0.0       ┆ 0.0       ┆ … ┆ 50.903448 ┆ 50.818966 ┆ 49.703224 ┆ 16.0     │\n",
       "│           ┆ 9         ┆           ┆           ┆   ┆           ┆           ┆           ┆          │\n",
       "│           ┆ 18:03:00  ┆           ┆           ┆   ┆           ┆           ┆           ┆          │\n",
       "│ 0         ┆ 2021-05-1 ┆ 0.0       ┆ 0.0       ┆ … ┆ 46.863793 ┆ 46.232759 ┆ 47.915121 ┆ 16.0     │\n",
       "│           ┆ 9         ┆           ┆           ┆   ┆           ┆           ┆           ┆          │\n",
       "│           ┆ 18:04:00  ┆           ┆           ┆   ┆           ┆           ┆           ┆          │\n",
       "│ 0         ┆ 2021-05-1 ┆ 2.075862  ┆ 0.686207  ┆ … ┆ 45.125862 ┆ 44.168966 ┆ 51.251362 ┆ 16.0     │\n",
       "│           ┆ 9         ┆           ┆           ┆   ┆           ┆           ┆           ┆          │\n",
       "│           ┆ 18:05:00  ┆           ┆           ┆   ┆           ┆           ┆           ┆          │\n",
       "│ 0         ┆ 2021-05-1 ┆ 84.565517 ┆ 51.906897 ┆ … ┆ 59.822414 ┆ 62.418966 ┆ 183.49031 ┆ 16.0     │\n",
       "│           ┆ 9         ┆           ┆           ┆   ┆           ┆           ┆           ┆          │\n",
       "│           ┆ 18:06:00  ┆           ┆           ┆   ┆           ┆           ┆           ┆          │\n",
       "│ 0         ┆ 2021-05-1 ┆ 83.237931 ┆ 52.47931  ┆ … ┆ 70.105172 ┆ 74.498276 ┆ 187.97436 ┆ 16.0     │\n",
       "│           ┆ 9         ┆           ┆           ┆   ┆           ┆           ┆ 2         ┆          │\n",
       "│           ┆ 18:07:00  ┆           ┆           ┆   ┆           ┆           ┆           ┆          │\n",
       "│ 0         ┆ 2021-05-1 ┆ 83.181818 ┆ 49.107438 ┆ … ┆ 70.578512 ┆ 75.404959 ┆ 187.28165 ┆ 16.0     │\n",
       "│           ┆ 9         ┆           ┆           ┆   ┆           ┆           ┆ 3         ┆          │\n",
       "│           ┆ 18:08:00  ┆           ┆           ┆   ┆           ┆           ┆           ┆          │\n",
       "└───────────┴───────────┴───────────┴───────────┴───┴───────────┴───────────┴───────────┴──────────┘"
      ]
     },
     "execution_count": 4,
     "metadata": {},
     "output_type": "execute_result"
    }
   ],
   "source": [
    "out_cols = [\n",
    "    \"utilization_gpu_pct\",\n",
    "    \"utilization_memory_pct\",\n",
    "    \"memory_free_MiB\",\n",
    "    \"memory_used_MiB\",\n",
    "    \"temperature_gpu\",\n",
    "    \"temperature_memory\",\n",
    "    \"power_draw_W\",\n",
    "    \"pcie_link_width_current\",\n",
    "]\n",
    "out_cols_means = list(map(lambda col_name: pl.col(col_name).mean(), out_cols))\n",
    "\n",
    "df = df.with_columns(\n",
    "pl.from_epoch(pl.col(\"timestamp\"), time_unit=\"s\").alias(\"datetime\")\n",
    ")\n",
    "df = df.sort(by=\"datetime\")\n",
    "out_df = df.group_by_dynamic(index_column=\"datetime\", every=\"1m\", group_by=\"gpu_index\").agg(out_cols_means)\n",
    "out_df"
   ]
  },
  {
   "cell_type": "code",
   "execution_count": 7,
   "metadata": {},
   "outputs": [
    {
     "data": {
      "text/html": [
       "<div><style>\n",
       ".dataframe > thead > tr,\n",
       ".dataframe > tbody > tr {\n",
       "  text-align: right;\n",
       "  white-space: pre-wrap;\n",
       "}\n",
       "</style>\n",
       "<small>shape: (3_148, 11)</small><table border=\"1\" class=\"dataframe\"><thead><tr><th>timestamp</th><th>gpu_index</th><th>utilization_gpu_pct</th><th>utilization_memory_pct</th><th>memory_free_MiB</th><th>memory_used_MiB</th><th>temperature_gpu</th><th>temperature_memory</th><th>power_draw_W</th><th>pcie_link_width_current</th><th>datetime</th></tr><tr><td>f64</td><td>i64</td><td>i64</td><td>i64</td><td>i64</td><td>i64</td><td>i64</td><td>i64</td><td>f64</td><td>i64</td><td>datetime[μs]</td></tr></thead><tbody><tr><td>1.6214e9</td><td>0</td><td>0</td><td>0</td><td>32510</td><td>0</td><td>56</td><td>57</td><td>52.61</td><td>16</td><td>2021-05-19 18:02:46</td></tr><tr><td>1.6214e9</td><td>0</td><td>0</td><td>0</td><td>32510</td><td>0</td><td>56</td><td>57</td><td>52.37</td><td>16</td><td>2021-05-19 18:02:48</td></tr><tr><td>1.6214e9</td><td>0</td><td>0</td><td>0</td><td>32510</td><td>0</td><td>56</td><td>57</td><td>52.58</td><td>16</td><td>2021-05-19 18:02:48</td></tr><tr><td>1.6214e9</td><td>0</td><td>0</td><td>0</td><td>32510</td><td>0</td><td>56</td><td>56</td><td>52.34</td><td>16</td><td>2021-05-19 18:02:48</td></tr><tr><td>1.6214e9</td><td>0</td><td>0</td><td>0</td><td>32510</td><td>0</td><td>56</td><td>56</td><td>52.46</td><td>16</td><td>2021-05-19 18:02:48</td></tr><tr><td>&hellip;</td><td>&hellip;</td><td>&hellip;</td><td>&hellip;</td><td>&hellip;</td><td>&hellip;</td><td>&hellip;</td><td>&hellip;</td><td>&hellip;</td><td>&hellip;</td><td>&hellip;</td></tr><tr><td>1.6214e9</td><td>1</td><td>0</td><td>0</td><td>32510</td><td>0</td><td>56</td><td>57</td><td>52.5</td><td>16</td><td>2021-05-19 18:02:47</td></tr><tr><td>1.6214e9</td><td>1</td><td>0</td><td>0</td><td>32510</td><td>0</td><td>56</td><td>57</td><td>52.39</td><td>16</td><td>2021-05-19 18:02:47</td></tr><tr><td>1.6214e9</td><td>1</td><td>0</td><td>0</td><td>32510</td><td>0</td><td>56</td><td>57</td><td>52.49</td><td>16</td><td>2021-05-19 18:02:47</td></tr><tr><td>1.6214e9</td><td>1</td><td>0</td><td>0</td><td>32510</td><td>0</td><td>56</td><td>57</td><td>52.5</td><td>16</td><td>2021-05-19 18:02:48</td></tr><tr><td>1.6214e9</td><td>1</td><td>0</td><td>0</td><td>32510</td><td>0</td><td>56</td><td>57</td><td>52.49</td><td>16</td><td>2021-05-19 18:02:48</td></tr></tbody></table></div>"
      ],
      "text/plain": [
       "shape: (3_148, 11)\n",
       "┌───────────┬───────────┬───────────┬───────────┬───┬───────────┬───────────┬───────────┬──────────┐\n",
       "│ timestamp ┆ gpu_index ┆ utilizati ┆ utilizati ┆ … ┆ temperatu ┆ power_dra ┆ pcie_link ┆ datetime │\n",
       "│ ---       ┆ ---       ┆ on_gpu_pc ┆ on_memory ┆   ┆ re_memory ┆ w_W       ┆ _width_cu ┆ ---      │\n",
       "│ f64       ┆ i64       ┆ t         ┆ _pct      ┆   ┆ ---       ┆ ---       ┆ rrent     ┆ datetime │\n",
       "│           ┆           ┆ ---       ┆ ---       ┆   ┆ i64       ┆ f64       ┆ ---       ┆ [μs]     │\n",
       "│           ┆           ┆ i64       ┆ i64       ┆   ┆           ┆           ┆ i64       ┆          │\n",
       "╞═══════════╪═══════════╪═══════════╪═══════════╪═══╪═══════════╪═══════════╪═══════════╪══════════╡\n",
       "│ 1.6214e9  ┆ 0         ┆ 0         ┆ 0         ┆ … ┆ 57        ┆ 52.61     ┆ 16        ┆ 2021-05- │\n",
       "│           ┆           ┆           ┆           ┆   ┆           ┆           ┆           ┆ 19       │\n",
       "│           ┆           ┆           ┆           ┆   ┆           ┆           ┆           ┆ 18:02:46 │\n",
       "│ 1.6214e9  ┆ 0         ┆ 0         ┆ 0         ┆ … ┆ 57        ┆ 52.37     ┆ 16        ┆ 2021-05- │\n",
       "│           ┆           ┆           ┆           ┆   ┆           ┆           ┆           ┆ 19       │\n",
       "│           ┆           ┆           ┆           ┆   ┆           ┆           ┆           ┆ 18:02:48 │\n",
       "│ 1.6214e9  ┆ 0         ┆ 0         ┆ 0         ┆ … ┆ 57        ┆ 52.58     ┆ 16        ┆ 2021-05- │\n",
       "│           ┆           ┆           ┆           ┆   ┆           ┆           ┆           ┆ 19       │\n",
       "│           ┆           ┆           ┆           ┆   ┆           ┆           ┆           ┆ 18:02:48 │\n",
       "│ 1.6214e9  ┆ 0         ┆ 0         ┆ 0         ┆ … ┆ 56        ┆ 52.34     ┆ 16        ┆ 2021-05- │\n",
       "│           ┆           ┆           ┆           ┆   ┆           ┆           ┆           ┆ 19       │\n",
       "│           ┆           ┆           ┆           ┆   ┆           ┆           ┆           ┆ 18:02:48 │\n",
       "│ 1.6214e9  ┆ 0         ┆ 0         ┆ 0         ┆ … ┆ 56        ┆ 52.46     ┆ 16        ┆ 2021-05- │\n",
       "│           ┆           ┆           ┆           ┆   ┆           ┆           ┆           ┆ 19       │\n",
       "│           ┆           ┆           ┆           ┆   ┆           ┆           ┆           ┆ 18:02:48 │\n",
       "│ …         ┆ …         ┆ …         ┆ …         ┆ … ┆ …         ┆ …         ┆ …         ┆ …        │\n",
       "│ 1.6214e9  ┆ 1         ┆ 0         ┆ 0         ┆ … ┆ 57        ┆ 52.5      ┆ 16        ┆ 2021-05- │\n",
       "│           ┆           ┆           ┆           ┆   ┆           ┆           ┆           ┆ 19       │\n",
       "│           ┆           ┆           ┆           ┆   ┆           ┆           ┆           ┆ 18:02:47 │\n",
       "│ 1.6214e9  ┆ 1         ┆ 0         ┆ 0         ┆ … ┆ 57        ┆ 52.39     ┆ 16        ┆ 2021-05- │\n",
       "│           ┆           ┆           ┆           ┆   ┆           ┆           ┆           ┆ 19       │\n",
       "│           ┆           ┆           ┆           ┆   ┆           ┆           ┆           ┆ 18:02:47 │\n",
       "│ 1.6214e9  ┆ 1         ┆ 0         ┆ 0         ┆ … ┆ 57        ┆ 52.49     ┆ 16        ┆ 2021-05- │\n",
       "│           ┆           ┆           ┆           ┆   ┆           ┆           ┆           ┆ 19       │\n",
       "│           ┆           ┆           ┆           ┆   ┆           ┆           ┆           ┆ 18:02:47 │\n",
       "│ 1.6214e9  ┆ 1         ┆ 0         ┆ 0         ┆ … ┆ 57        ┆ 52.5      ┆ 16        ┆ 2021-05- │\n",
       "│           ┆           ┆           ┆           ┆   ┆           ┆           ┆           ┆ 19       │\n",
       "│           ┆           ┆           ┆           ┆   ┆           ┆           ┆           ┆ 18:02:48 │\n",
       "│ 1.6214e9  ┆ 1         ┆ 0         ┆ 0         ┆ … ┆ 57        ┆ 52.49     ┆ 16        ┆ 2021-05- │\n",
       "│           ┆           ┆           ┆           ┆   ┆           ┆           ┆           ┆ 19       │\n",
       "│           ┆           ┆           ┆           ┆   ┆           ┆           ┆           ┆ 18:02:48 │\n",
       "└───────────┴───────────┴───────────┴───────────┴───┴───────────┴───────────┴───────────┴──────────┘"
      ]
     },
     "execution_count": 7,
     "metadata": {},
     "output_type": "execute_result"
    }
   ],
   "source": [
    "MODIFIED_FILE = \"../samples/gpu/modified/9977228855307-r8937440-n976057-index-added.csv\"\n",
    "\n",
    "df_modified = pl.read_csv(MODIFIED_FILE)\n",
    "df_modified = df_modified.with_columns(\n",
    "pl.from_epoch(pl.col(\"timestamp\"), time_unit=\"s\").alias(\"datetime\")\n",
    ")\n",
    "df_modified = df_modified.sort(by=[\"gpu_index\",\"datetime\"])\n",
    "df_modified"
   ]
  },
  {
   "cell_type": "code",
   "execution_count": 10,
   "metadata": {},
   "outputs": [],
   "source": [
    "out_df_modified = df_modified.group_by_dynamic(index_column=\"datetime\", every=\"1m\", group_by=\"gpu_index\").agg(out_cols_means)\n",
    "out_df_modified.write_csv(\"../sample.csv\")"
   ]
  },
  {
   "cell_type": "code",
   "execution_count": null,
   "metadata": {},
   "outputs": [],
   "source": []
  }
 ],
 "metadata": {
  "kernelspec": {
   "display_name": "venv",
   "language": "python",
   "name": "python3"
  },
  "language_info": {
   "codemirror_mode": {
    "name": "ipython",
    "version": 3
   },
   "file_extension": ".py",
   "mimetype": "text/x-python",
   "name": "python",
   "nbconvert_exporter": "python",
   "pygments_lexer": "ipython3",
   "version": "3.12.4"
  }
 },
 "nbformat": 4,
 "nbformat_minor": 2
}
