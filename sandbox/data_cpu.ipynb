{
 "cells": [
  {
   "cell_type": "code",
   "execution_count": 5,
   "metadata": {},
   "outputs": [],
   "source": [
    "import polars as pl\n",
    "\n",
    "INPUT_FILE = \"../samples/cpu/9971353567915-summary.csv\""
   ]
  },
  {
   "cell_type": "code",
   "execution_count": 6,
   "metadata": {},
   "outputs": [
    {
     "data": {
      "text/html": [
       "<div><style>\n",
       ".dataframe > thead > tr,\n",
       ".dataframe > tbody > tr {\n",
       "  text-align: right;\n",
       "  white-space: pre-wrap;\n",
       "}\n",
       "</style>\n",
       "<small>shape: (2, 40)</small><table border=\"1\" class=\"dataframe\"><thead><tr><th>Step</th><th>Node</th><th>Series</th><th>ElapsedTime</th><th>Min_EpochTime</th><th>Max_EpochTime</th><th>Sum_EpochTime</th><th>Avg_EpochTime</th><th>Min_CPUFrequency</th><th>Max_CPUFrequency</th><th>Sum_CPUFrequency</th><th>Avg_CPUFrequency</th><th>Min_CPUTime</th><th>Max_CPUTime</th><th>Sum_CPUTime</th><th>Avg_CPUTime</th><th>Min_CPUUtilization</th><th>Max_CPUUtilization</th><th>Sum_CPUUtilization</th><th>Avg_CPUUtilization</th><th>Min_RSS</th><th>Max_RSS</th><th>Sum_RSS</th><th>Avg_RSS</th><th>Min_VMSize</th><th>Max_VMSize</th><th>Sum_VMSize</th><th>Avg_VMSize</th><th>Min_Pages</th><th>Max_Pages</th><th>Sum_Pages</th><th>Avg_Pages</th><th>Min_ReadMB</th><th>Max_ReadMB</th><th>Sum_ReadMB</th><th>Avg_ReadMB</th><th>Min_WriteMB</th><th>Max_WriteMB</th><th>Sum_WriteMB</th><th>Avg_WriteMB</th></tr><tr><td>str</td><td>str</td><td>i64</td><td>i64</td><td>i64</td><td>i64</td><td>i64</td><td>f64</td><td>i64</td><td>i64</td><td>i64</td><td>f64</td><td>f64</td><td>f64</td><td>f64</td><td>f64</td><td>f64</td><td>f64</td><td>f64</td><td>f64</td><td>i64</td><td>i64</td><td>i64</td><td>f64</td><td>i64</td><td>i64</td><td>i64</td><td>f64</td><td>i64</td><td>i64</td><td>i64</td><td>f64</td><td>f64</td><td>f64</td><td>f64</td><td>f64</td><td>f64</td><td>f64</td><td>f64</td><td>f64</td></tr></thead><tbody><tr><td>&quot;-1&quot;</td><td>&quot;r3741709-n386398&quot;</td><td>0</td><td>520</td><td>1610094091</td><td>1610094611</td><td>85335000603</td><td>1.6101e9</td><td>3189</td><td>3189</td><td>169017</td><td>3189.0</td><td>0.0</td><td>0.0</td><td>0.0</td><td>0.0</td><td>0.0</td><td>0.0</td><td>0.0</td><td>0.0</td><td>888</td><td>2176</td><td>48352</td><td>912.301887</td><td>7776</td><td>168368</td><td>572720</td><td>10806.037736</td><td>0</td><td>0</td><td>0</td><td>0.0</td><td>0.0</td><td>0.001858</td><td>0.001858</td><td>0.000035</td><td>0.0</td><td>0.002243</td><td>0.002243</td><td>0.000042</td></tr><tr><td>&quot;batch&quot;</td><td>&quot;r3741709-n386398&quot;</td><td>0</td><td>520</td><td>1610094092</td><td>1610094612</td><td>85335000656</td><td>1.6101e9</td><td>3348</td><td>3348</td><td>177444</td><td>3348.0</td><td>0.0</td><td>39.57</td><td>1019.11</td><td>19.228491</td><td>0.0</td><td>395.7</td><td>10191.1</td><td>192.284906</td><td>4924</td><td>2802884</td><td>121882656</td><td>2.2997e6</td><td>199044</td><td>16937192</td><td>850260228</td><td>1.6043e7</td><td>0</td><td>0</td><td>0</td><td>0.0</td><td>0.0</td><td>297.180005</td><td>466.7957</td><td>8.807466</td><td>0.0</td><td>89.340246</td><td>128.182905</td><td>2.418545</td></tr></tbody></table></div>"
      ],
      "text/plain": [
       "shape: (2, 40)\n",
       "┌───────┬────────────┬────────┬────────────┬───┬────────────┬────────────┬────────────┬────────────┐\n",
       "│ Step  ┆ Node       ┆ Series ┆ ElapsedTim ┆ … ┆ Min_WriteM ┆ Max_WriteM ┆ Sum_WriteM ┆ Avg_WriteM │\n",
       "│ ---   ┆ ---        ┆ ---    ┆ e          ┆   ┆ B          ┆ B          ┆ B          ┆ B          │\n",
       "│ str   ┆ str        ┆ i64    ┆ ---        ┆   ┆ ---        ┆ ---        ┆ ---        ┆ ---        │\n",
       "│       ┆            ┆        ┆ i64        ┆   ┆ f64        ┆ f64        ┆ f64        ┆ f64        │\n",
       "╞═══════╪════════════╪════════╪════════════╪═══╪════════════╪════════════╪════════════╪════════════╡\n",
       "│ -1    ┆ r3741709-n ┆ 0      ┆ 520        ┆ … ┆ 0.0        ┆ 0.002243   ┆ 0.002243   ┆ 0.000042   │\n",
       "│       ┆ 386398     ┆        ┆            ┆   ┆            ┆            ┆            ┆            │\n",
       "│ batch ┆ r3741709-n ┆ 0      ┆ 520        ┆ … ┆ 0.0        ┆ 89.340246  ┆ 128.182905 ┆ 2.418545   │\n",
       "│       ┆ 386398     ┆        ┆            ┆   ┆            ┆            ┆            ┆            │\n",
       "└───────┴────────────┴────────┴────────────┴───┴────────────┴────────────┴────────────┴────────────┘"
      ]
     },
     "execution_count": 6,
     "metadata": {},
     "output_type": "execute_result"
    }
   ],
   "source": [
    "res = pl.read_csv(INPUT_FILE)\n",
    "res\n"
   ]
  },
  {
   "cell_type": "code",
   "execution_count": null,
   "metadata": {},
   "outputs": [],
   "source": []
  }
 ],
 "metadata": {
  "kernelspec": {
   "display_name": "venv",
   "language": "python",
   "name": "python3"
  },
  "language_info": {
   "codemirror_mode": {
    "name": "ipython",
    "version": 3
   },
   "file_extension": ".py",
   "mimetype": "text/x-python",
   "name": "python",
   "nbconvert_exporter": "python",
   "pygments_lexer": "ipython3",
   "version": "3.12.4"
  }
 },
 "nbformat": 4,
 "nbformat_minor": 2
}
